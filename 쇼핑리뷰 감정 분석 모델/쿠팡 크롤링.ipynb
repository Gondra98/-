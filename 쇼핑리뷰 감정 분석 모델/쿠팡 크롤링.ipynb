{
 "cells": [
  {
   "cell_type": "code",
   "execution_count": 1,
   "id": "65c82548",
   "metadata": {},
   "outputs": [],
   "source": [
    "# CMD 설치사항\n",
    "#pip install selenium\n",
    "#pip install webdriver_manager\n",
    "\n",
    "import time\n",
    "import requests\n",
    "from time import sleep\n",
    "import re, requests, csv\n",
    "from bs4 import BeautifulSoup as bs\n",
    "from selenium.webdriver.common.keys import Keys\n",
    "import pandas as pd\n",
    "from selenium import webdriver\n",
    "from selenium.webdriver.common.by import By\n",
    "from selenium.webdriver.chrome.service import Service as ChromeService\n",
    "from webdriver_manager.chrome import ChromeDriverManager"
   ]
  },
  {
   "cell_type": "code",
   "execution_count": 2,
   "id": "693e9a2c",
   "metadata": {},
   "outputs": [
    {
     "name": "stderr",
     "output_type": "stream",
     "text": [
      "[WDM] - Downloading: 100%|██████████| 6.30M/6.30M [00:00<00:00, 10.9MB/s]\n"
     ]
    }
   ],
   "source": [
    "#주소입력\n",
    "url = \"https://www.coupang.com/vp/products/1287648998?itemId=2298156607&vendorItemId=70295130085&q=%EC%95%B3%ED%99%88+%EC%86%94%EB%A6%AC%EB%93%9C+%EC%9A%B0%EB%93%9C+%ED%85%8C%EC%9D%B4%EB%B8%94&itemsCount=36&searchId=cee0d1260278427f8dfe4a85834e7956&rank=1&isAddedCart=\"\n",
    "\n",
    "# Chrome 브라우저 설정\n",
    "driver = webdriver.Chrome(service=ChromeService(ChromeDriverManager().install()))\n",
    "\n",
    "# 페이지 열기\n",
    "driver.get(url)"
   ]
  },
  {
   "cell_type": "code",
   "execution_count": 3,
   "id": "35d9a658",
   "metadata": {
    "scrolled": false
   },
   "outputs": [
    {
     "name": "stdout",
     "output_type": "stream",
     "text": [
      "전체 리뷰 수를 입력해주세요: 10\n"
     ]
    }
   ],
   "source": [
    "from bs4 import BeautifulSoup\n",
    "\n",
    "count = 0\n",
    "\n",
    "stop = int(input(\"전체 리뷰 수를 입력해주세요: \"))  # 전체 리뷰 수 입력\n",
    "\n",
    "next_btn = [\n",
    "    'button.sdp-review__article__page__num.sdp-review__article__page__num--active.js_reviewArticlePageBtn',\n",
    "    'button:nth-child(3)',\n",
    "    'button:nth-child(4)',\n",
    "    'button:nth-child(5)',\n",
    "    'button:nth-child(6)',\n",
    "    'button:nth-child(7)',\n",
    "    'button:nth-child(8)',\n",
    "    'button:nth-child(9)',\n",
    "    'button:nth-child(10)',\n",
    "    'button:nth-child(11)',\n",
    "    'a.fAUKm1ewwo._2Ar8-aEUTq'\n",
    "]\n",
    "\n",
    "review_list = []\n",
    "rank_list = []\n",
    "\n",
    "pages = stop // 5 + 1  # 전체 페이지 수 계산\n",
    "\n",
    "driver.find_element(By.CSS_SELECTOR, '#btfTab > ul.tab-titles > li:nth-child(2)').click()\n",
    "\n",
    "for _ in range(pages):\n",
    "    html = driver.page_source  # 페이지의 HTML 가져오기\n",
    "    soup = BeautifulSoup(html, \"html.parser\")\n",
    "    reviews = soup.find_all('div', class_='sdp-review__article__list__review__content js_reviewArticleContent')\n",
    "    ratings = soup.find_all('div', class_='sdp-review__article__list__info__product-info__star-orange js_reviewArticleRatingValue')\n",
    "    \n",
    "    for i in range(min(stop - count, 5)):\n",
    "        if i >= len(reviews):\n",
    "            break  # 리뷰가 더 이상 없으면 반복문 종료\n",
    "        review_text = reviews[i].text.strip().lstrip()  # 리뷰 내용 추출 (띄어쓰기 포함, 앞쪽 공백 제거)\n",
    "        review_text = re.sub('[^#0-9a-zA-Zㄱ-ㅣ가-힣\\s]', \"\", review_text.replace('\\n', ''))  # 특수문자 제거 및 \\n 제거\n",
    "        if not review_text:  # 리뷰가 공백인 경우 건너뛰기\n",
    "            continue\n",
    "        review_list.append(review_text)\n",
    "        rank_text = ratings[i]['data-rating']  # 평가 등급 데이터 속성에서 추출\n",
    "        rank = int(rank_text)\n",
    "        rank_list.append(rank)\n",
    "        count += 1\n",
    "        if count >= stop:\n",
    "            break\n",
    "\n",
    "    if count >= stop:\n",
    "        break\n",
    "\n",
    "    driver.find_element(By.CSS_SELECTOR, '#btfTab > ul.tab-contents > li.product-review.tab-contents__content > div > div.sdp-review__article.js_reviewArticleContainer > section.js_reviewArticleListContainer > div.sdp-review__article__page.js_reviewArticlePagingContainer > button.sdp-review__article__page__num.sdp-review__article__page__num--active.js_reviewArticlePageBtn + button').click()\n",
    "    time.sleep(2)\n"
   ]
  },
  {
   "cell_type": "code",
   "execution_count": 4,
   "id": "2529e61d",
   "metadata": {},
   "outputs": [
    {
     "data": {
      "text/plain": [
       "10"
      ]
     },
     "execution_count": 4,
     "metadata": {},
     "output_type": "execute_result"
    }
   ],
   "source": [
    "len(review_list)   # 저장된 리뷰수"
   ]
  },
  {
   "cell_type": "code",
   "execution_count": 5,
   "id": "54bbb9f2",
   "metadata": {},
   "outputs": [
    {
     "data": {
      "text/plain": [
       "10"
      ]
     },
     "execution_count": 5,
     "metadata": {},
     "output_type": "execute_result"
    }
   ],
   "source": [
    "len(rank_list)    # 저장된 평점수"
   ]
  },
  {
   "cell_type": "code",
   "execution_count": 6,
   "id": "8c4ba5a9",
   "metadata": {},
   "outputs": [
    {
     "data": {
      "text/plain": [
       "['이런 류의 테이블 중에 이 제품이 제일 예뻐보였어요리뷰도 꼼꼼하게 봤는데 하자있는 제품이 종종 있어서걱정했는데 하자 없이 잘 왔어요 ㅎㅎ신랑에게 조립을 부탁했는데 다리 거꾸로 끼우고 있길래번호 있어서 잘 보고 해야한다고 이야기 해 줬어요 ㅎㅎ4번 5 번 다리 모양 잘 보고 조립하시면 됩니다사다리를 끼워야 하기 때문에 구멍 위치만 맞춰서 끼우면 됩니다생각보다 신랑이 힘들게 조립해 줬는데피스 구멍들이 잘 맞지 않아서 힘들다고 하더라구요 ㅠ가성비 좋은 제품이니 감안하고 있었던지라신랑에게 힘내라고 이야기 해 줬습니다 ㅎㅎ화분을 올려놓고 사용할 용도로 구매했는데테이블이 살짝 흔들림이 있어서 묵직한 화분을 놔야할지가벼운 화분을 놔야할지 고민이 좀 됩니다 ㅎㅎ그래도 이 가격에 이렇게 예쁜 테이블 구매해서참 좋아요 ',\n",
       " '에구 상품 문의에 답변이 없어요 한 달이 넘도록 일단 디자인 색감 다 제 마음에 들지만 너무 약하네요문제는 나사가 약해서 조이다가 나사 대가리가 부러졌어요 마지막 다리는 나사가 없이 그냥 서 있습니다 나사를 새로 보내주신다고 하더라도 나사가 안에 박힌 상태에서 대가리만 부러졌기 때문에 다시 나사를 끼울 수도 부러진 안의 부분을 뺄 수도 없는 상태입니다 아예 다 분해를 해서 다리 하나와 나사를 새로 받아야하겠네요 그게 맞는데 저는 도저히 이 아이들을 다 분해할 수도 없고 문제는 판매자가 문의 글에 답변도 안한다는 것 다른 부분도 약한데 그냥 두었어요 문의 글에 답변이 없는 것은 무슨 경우인지 모르겠어요 이런 적 없어서 ㅠㅠ 모르겠어요 저는 이사와서 살림살이를 다 하나씩 하나씩 주문하는데 얘처럼 속상하게 하는 게 없네요 왜 답변을 안하는거예요그 후로 부터 2주 뒤 여전히 답은 없고 여전히 다리엔 나사 하나 없이 그대로 있어요 위에 무거운 물건은 올리지않고 가벼워서 이리저리 옮겨가며 급할 때 쓰기 좋습니다 흔들흔들 거리고 불안하지만 다리에 나사가 없는 것을 인지하고 조심히 가벼운 것만 올려 씁니다 다이소에서 파는 실리콘으로 마무리 했어요 하지만 여전히 나사 부러진 것에 대한 판매자는 아무 반응이 없네요 혹시 저와 같은 경우에 처하신 분들은 문의하고 기다리지 마시고 하루빨리 반품이나 교환을 하시는 것을 추천드립니다',\n",
       " '새집에 화분 놓을 곳이 필요해서 구입했어요액자도 놓고 화분도 놓고 싶은데 ㅋㅋ사이즈가 이게 딱이더라고요색상도 벽이랑 잘 어울리길래가격도 적당했고요 ㅋㅋ결론은 너무 마음에 드네요 ㅋㅋ화분도 2개 올려놓았는데 안정감있어요튼튼하네요조립할 때 한 번에 다 잠그지 마시고양쪽 밸런스 보면서 잠그시고요다 반씩 연결한 다음에 완전히 잠그셔요 ㅋㅋ그래야 됩니다 ㅋㅋ처음에 모르고 꽉 잠갔다가 ㅋㅋ나머지가 구멍이 안맞아서 고생했어요조립은 어렵지 않았고요구멍 다 잘 맞네요 ㅋㅋ가격대비 고급진 느낌 좋아요 ㅋㅋ마음에 듭니다사진이랑 소품 올려놓아도 예뻐요대만족다들 보더니 예쁘다고 했어요망가지지 않는 이상 재구매 의사는 없고요두달 이상 사용 중인데 아직 멀쩡해요',\n",
       " '묵직함은 없어요   아마 밀면 쓰러질지도몰라요    그래서 주방에서 벽쪽으로 놓고밑에쪽은 무거운걸로 눌러주고 위에도잔뜩 뭘 올려놨어요예쁘게 뭔가를 진열하면 아주 어울릴그런 테이블이에요   디자인은 생각처럼아주 귀엽고도 멋있어요   그런데 저희집은이 테이블 혼자 있어줄 벽이 없네요넓은집은 이 테이블 혼자에 꽃병만 올려두어도 충분히 예쁠거에요   저는 주방에자질구레한거 정리하고 올려두려고 구매했어요   튼튼할줄 알았는데 약간 연약해요그래도 가격과 디자인보면 충분히 백점이고 또 두어개 더 사고 싶기도해요 둘 때가 없는게 슬플뿐이죠  아가들 있는집은 피하는게좋을듯해요  아가가 무너뜨릴수도 있거든여',\n",
       " '전체적으로 마음에 듭니다남편도 깔끔해서 이쁘데요 조립은 어려운건 없었는데 나사조이는건좀 빡쎄서 제가 못하겠더라고요 그래서 남편이 다했네요이 가격에 집에 어울리기도하고 디자인도 사이즈도 딱맞고 잘 산것같아요 너무 마음듭니다 집 분위가 달라졌어요ㅋ조립할때 설명서보고 그대로 하시면되구요 나사마다 봉지에 알파벳스티커가 붙어있어서 이해가 더 잘되니 손쉽게 조립가능해요조립하다보니 마감이 제대로되있지않아 찔릴수도있고 그게 별하나 뺀 이유이고 조립할때 나사를 끼우면 시커먼 찌꺼기도 많이 흘러내리니 나사로 미리 구멍에 넣엇다빼서 찌꺼기를 미리 빼시는게 좋을것같아요',\n",
       " '저희집 쇼파가 좀 높은 쇼파라서높은 테이블을 찾고있었는데딱히 맘에 드는걸 못찾다 우연히 보고 바로 구매했어요신랑 올때까지 못 기다리고혼자 조립했는데 어렵지 않게 혼자서 잘할수있었어요 똥손인 저도 할수있으니 다들 잘하실수있을꺼같아요우선 높이도 크기도 모든게 맘에 들고저희집 분위기랑도 잘어울리는거 같아요정말 볼수록 넘 예뻐요다른분들 평에 다리가 좀  약한거 같다고 써있었는데무거운거 올릴꺼 아니라서 전 괜찮은거 같아요살까말까 지금 고민중이시면 어여어여 사세요 고고고',\n",
       " '대만족 입니다  인테리어 효과 짱 가성비 굿 넘이뻐요 울집이랑 잘어울림',\n",
       " '맘에 딱 들어요불량이란 리뷰가 은근 많길레 조금 망설였는데너무 맘에 들어서 정상적인 제품이 오길 바라며 주문 했어요하자없는 정상물건 받았어요저는 침대옆에 사이드테블 처럼 쓰려고 주문 했어요아주 맞춤이네요여자 혼자 드릴없이 조립 가능 했구요흔들림 없이 짱짱해요만족 하면서 사용하고 있어요요즘은 화장대로 사용 하고 있어요너무 만족합니다구입해서 사용한지 3개월이 다 되어 가네요여러모로 활용가기 좋아요요즘은 창가게 두고 화초를 올려 두었습니당흔들림 없이 튼튼해요',\n",
       " '처음부터 꽉 조이지 말고 조립하래서 그리하였구요색상이며 사이즈 딱 좋아요사실 마지막에 아랫쪽 사다리모양의 선반 조립하면서헛 불량품이ㅡ도착했다 면서 화가 좀 났었는데제가 잘못 안거였더라구요다리부분과 아랫쪽 선반조립할때 다리의 홈에 선반을 끼워나사를 조립해야하는데 안맞다고 실망마세요다리가 다 제 위치가 있더라구요저 같은 분이 또 있을지 모르겠지만조립해보면 아실거예요 ㅎ사이즈는 작은 저의 가게에 딱 맞아요',\n",
       " '후기를 보고 많이 망설인 제품후기를보니 마감도 엉망에 다리에 금이 쫙 가있고설마 내껀 안그러겠지 아니겠지하고구입하고야 말았습ㄴ다역시나ㅎㅎㅎㅎ다리에 금이 쫙  밑에 받침 이라 해야 할까요 거기에도 금이 쫙상판 뒷면에도 어디 부딪혔는지 콕젠장디자인이 그나마 제일 마음에 들었던 부분인지라후기보고 고민 가격 보고 고민고민하다가 구입했는데 휴어떤분은 볼트가 문제라던데 저한테 온것도 한개가 불량이더라구요다행인건지 상판 밑에 껴넣는 볼트 한개가 말썽인거라 적당한곳ㅋㅋㄱ하나 빼고 조립했네여볼트 얼마 안할텐데 여유 한두개는 더 넣어줬음 하네여ㅡㅡ이래저래 불만이 많지만 그냥 써보자해서 세워놨는데 힘은 많이 못쓸거같구요누구말대로 관상용ㅋㅋㅋㅋ커피머신 하나 올려두려고 산제품인지라 그냥 그러려니 하고 쓸려구요아직 커피머신이 안와서 약만 주르륵 올려놨네여ㅎ무튼 디자인은 맘에 드니무너짐 없이 함께하길 바래야져 뭐']"
      ]
     },
     "execution_count": 6,
     "metadata": {},
     "output_type": "execute_result"
    }
   ],
   "source": [
    "review_list"
   ]
  },
  {
   "cell_type": "code",
   "execution_count": 7,
   "id": "8d6ed314",
   "metadata": {},
   "outputs": [
    {
     "data": {
      "text/plain": [
       "[5, 1, 5, 5, 4, 5, 5, 5, 5, 3]"
      ]
     },
     "execution_count": 7,
     "metadata": {},
     "output_type": "execute_result"
    }
   ],
   "source": [
    "rank_list"
   ]
  },
  {
   "cell_type": "code",
   "execution_count": 8,
   "id": "0f57f71c",
   "metadata": {},
   "outputs": [
    {
     "name": "stdout",
     "output_type": "stream",
     "text": [
      "저장 완료되었습니다.\n"
     ]
    }
   ],
   "source": [
    "import pandas as pd\n",
    "\n",
    "df = pd.DataFrame({\"평점\": rank_list, \"리뷰\": review_list})\n",
    "df.to_excel(\"C:/Users/user/Desktop/앳홈 솔리드 우드 테이블.xlsx\", index=False, encoding='openpyxl')\n",
    "print(\"저장 완료되었습니다.\")"
   ]
  },
  {
   "cell_type": "code",
   "execution_count": null,
   "id": "947dbaea",
   "metadata": {},
   "outputs": [],
   "source": []
  }
 ],
 "metadata": {
  "kernelspec": {
   "display_name": "Python 3 (ipykernel)",
   "language": "python",
   "name": "python3"
  },
  "language_info": {
   "codemirror_mode": {
    "name": "ipython",
    "version": 3
   },
   "file_extension": ".py",
   "mimetype": "text/x-python",
   "name": "python",
   "nbconvert_exporter": "python",
   "pygments_lexer": "ipython3",
   "version": "3.9.13"
  }
 },
 "nbformat": 4,
 "nbformat_minor": 5
}
