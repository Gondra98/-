{
 "cells": [
  {
   "cell_type": "code",
   "execution_count": 2,
   "id": "3abf71b4",
   "metadata": {},
   "outputs": [],
   "source": [
    "import numpy as np\n",
    "import tensorflow as tf\n",
    "import pandas as pd\n",
    "from sklearn.model_selection import train_test_split\n",
    "from tensorflow.keras.preprocessing.text import Tokenizer\n",
    "from tensorflow.keras.preprocessing.sequence import pad_sequences\n",
    "from tensorflow.keras.models import Sequential\n",
    "from tensorflow.keras.layers import Embedding, Flatten, Dense, Dropout\n",
    "import re"
   ]
  },
  {
   "cell_type": "code",
   "execution_count": 3,
   "id": "457f2211",
   "metadata": {},
   "outputs": [],
   "source": [
    "# 쿠팡 쇼핑 리뷰 데이터셋 다운로드\n",
    "data = pd.read_excel('dataset.xlsx')\n",
    "\n",
    "reviews = data['리뷰']\n",
    "ratings = data['평점']\n"
   ]
  },
  {
   "cell_type": "code",
   "execution_count": 4,
   "id": "7efefd8e",
   "metadata": {},
   "outputs": [
    {
     "name": "stdout",
     "output_type": "stream",
     "text": [
      "긍정(1) or 부정(0) : 1\n",
      "생각보다 길고 원단 톡톡해요근데 건조기 돌리니 좀 줄어들었어요만족해서 하나 더 규매했어요\n",
      "[90, 1530, 3180, 9768, 9769, 5627, 9, 9770, 105, 10, 9771]\n"
     ]
    }
   ],
   "source": [
    "# 데이터 전처리\n",
    "tokenizer = Tokenizer()\n",
    "tokenizer.fit_on_texts(reviews)\n",
    "vocab_size = len(tokenizer.word_index) + 1\n",
    "\n",
    "\n",
    "x_sequences = tokenizer.texts_to_sequences(reviews)                # 텍스트 데이터를 숫자 시퀀스로 변환\n",
    "x_padded = pad_sequences(x_sequences, maxlen=100, padding='post') # 시퀀스 데이터의 길이를 맞추기 위해 패딩 추가\n",
    "\n",
    "y = np.array(ratings.apply(lambda x: 1 if x >= 3 else 0))       # 평점을 기준으로 긍정(1)과 부정(0)을 나타내는 이진 클래스 생성\n",
    "\n",
    "x_train, x_test, y_train, y_test = train_test_split(x_padded, y, test_size=0.2, random_state=42)\n",
    "\n",
    "print(\"긍정(1) or 부정(0) :\",y[0])\n",
    "print(reviews[0])\n",
    "print(x_sequences[0])\n"
   ]
  },
  {
   "cell_type": "code",
   "execution_count": 5,
   "id": "9539ea3b",
   "metadata": {},
   "outputs": [
    {
     "name": "stdout",
     "output_type": "stream",
     "text": [
      "Model: \"sequential\"\n",
      "_________________________________________________________________\n",
      " Layer (type)                Output Shape              Param #   \n",
      "=================================================================\n",
      " embedding (Embedding)       (None, 100, 64)           3069248   \n",
      "                                                                 \n",
      " flatten (Flatten)           (None, 6400)              0         \n",
      "                                                                 \n",
      " dense (Dense)               (None, 64)                409664    \n",
      "                                                                 \n",
      " dropout (Dropout)           (None, 64)                0         \n",
      "                                                                 \n",
      " dense_1 (Dense)             (None, 1)                 65        \n",
      "                                                                 \n",
      "=================================================================\n",
      "Total params: 3,478,977\n",
      "Trainable params: 3,478,977\n",
      "Non-trainable params: 0\n",
      "_________________________________________________________________\n"
     ]
    }
   ],
   "source": [
    "# 모델 구성\n",
    "model = Sequential()\n",
    "model.add(Embedding(vocab_size, 64, input_length=100))\n",
    "model.add(Flatten())\n",
    "model.add(Dense(64, activation='relu'))\n",
    "model.add(Dropout(0.5))\n",
    "model.add(Dense(1, activation='sigmoid'))\n",
    "\n",
    "model.summary()"
   ]
  },
  {
   "cell_type": "code",
   "execution_count": 6,
   "id": "925ccb3e",
   "metadata": {
    "scrolled": false
   },
   "outputs": [
    {
     "name": "stdout",
     "output_type": "stream",
     "text": [
      "Epoch 1/20\n",
      "65/65 [==============================] - 6s 74ms/step - loss: 0.6911 - accuracy: 0.5318 - val_loss: 0.6843 - val_accuracy: 0.6044\n",
      "Epoch 2/20\n",
      "65/65 [==============================] - 5s 77ms/step - loss: 0.5831 - accuracy: 0.7374 - val_loss: 0.4678 - val_accuracy: 0.7843\n",
      "Epoch 3/20\n",
      "65/65 [==============================] - 5s 81ms/step - loss: 0.1578 - accuracy: 0.9511 - val_loss: 0.3777 - val_accuracy: 0.8308\n",
      "Epoch 4/20\n",
      "65/65 [==============================] - 6s 85ms/step - loss: 0.0399 - accuracy: 0.9903 - val_loss: 0.4097 - val_accuracy: 0.8337\n",
      "Epoch 5/20\n",
      "65/65 [==============================] - 5s 84ms/step - loss: 0.0151 - accuracy: 0.9981 - val_loss: 0.4123 - val_accuracy: 0.8308\n",
      "Epoch 6/20\n",
      "65/65 [==============================] - 5s 84ms/step - loss: 0.0080 - accuracy: 0.9985 - val_loss: 0.4382 - val_accuracy: 0.8279\n",
      "Epoch 7/20\n",
      "65/65 [==============================] - 5s 82ms/step - loss: 0.0059 - accuracy: 0.9988 - val_loss: 0.4533 - val_accuracy: 0.8298\n",
      "Epoch 8/20\n",
      "65/65 [==============================] - 6s 85ms/step - loss: 0.0030 - accuracy: 0.9995 - val_loss: 0.4772 - val_accuracy: 0.8327\n",
      "Epoch 9/20\n",
      "65/65 [==============================] - 6s 90ms/step - loss: 0.0022 - accuracy: 0.9998 - val_loss: 0.4837 - val_accuracy: 0.8230\n",
      "Epoch 10/20\n",
      "65/65 [==============================] - 6s 86ms/step - loss: 0.0026 - accuracy: 0.9988 - val_loss: 0.4956 - val_accuracy: 0.8259\n",
      "Epoch 11/20\n",
      "65/65 [==============================] - 6s 86ms/step - loss: 0.0026 - accuracy: 0.9993 - val_loss: 0.5026 - val_accuracy: 0.8298\n",
      "Epoch 12/20\n",
      "65/65 [==============================] - 6s 85ms/step - loss: 0.0030 - accuracy: 0.9985 - val_loss: 0.5544 - val_accuracy: 0.8124\n",
      "Epoch 13/20\n",
      "65/65 [==============================] - 6s 85ms/step - loss: 0.0029 - accuracy: 0.9990 - val_loss: 0.5245 - val_accuracy: 0.8221\n",
      "Epoch 14/20\n",
      "65/65 [==============================] - 6s 86ms/step - loss: 0.0023 - accuracy: 0.9993 - val_loss: 0.5407 - val_accuracy: 0.8172\n",
      "Epoch 15/20\n",
      "65/65 [==============================] - 7s 105ms/step - loss: 0.0013 - accuracy: 0.9995 - val_loss: 0.5815 - val_accuracy: 0.8124\n",
      "Epoch 16/20\n",
      "65/65 [==============================] - 6s 95ms/step - loss: 0.0014 - accuracy: 0.9995 - val_loss: 0.5788 - val_accuracy: 0.8095\n",
      "Epoch 17/20\n",
      "65/65 [==============================] - 6s 86ms/step - loss: 0.0020 - accuracy: 0.9995 - val_loss: 0.5478 - val_accuracy: 0.8182\n",
      "Epoch 18/20\n",
      "65/65 [==============================] - 5s 82ms/step - loss: 0.0016 - accuracy: 0.9993 - val_loss: 0.5839 - val_accuracy: 0.8114\n",
      "Epoch 19/20\n",
      "65/65 [==============================] - 6s 92ms/step - loss: 0.0014 - accuracy: 0.9993 - val_loss: 0.5808 - val_accuracy: 0.8133\n",
      "Epoch 20/20\n",
      "65/65 [==============================] - 6s 90ms/step - loss: 0.0019 - accuracy: 0.9990 - val_loss: 0.5761 - val_accuracy: 0.8095\n"
     ]
    }
   ],
   "source": [
    "# 모델 학습\n",
    "model.compile(loss='binary_crossentropy', optimizer='adam', metrics=['accuracy'])\n",
    "\n",
    "history = model.fit(x_train, y_train, batch_size=64, epochs=20, verbose=1, validation_data=(x_test, y_test))"
   ]
  },
  {
   "cell_type": "code",
   "execution_count": 8,
   "id": "fbc899f9",
   "metadata": {},
   "outputs": [
    {
     "name": "stdout",
     "output_type": "stream",
     "text": [
      "1/1 [==============================] - 0s 19ms/step\n",
      "부정적인 리뷰입니다.\n"
     ]
    }
   ],
   "source": [
    "# 모델 서비스 구현\n",
    "review = \"배송이 느려서 별로였어요\"\n",
    "\n",
    "review = re.sub(\"[^0-9ㄱ-ㅎㅏ-ㅣ가-힣 ]\", \"\", review).lower()\n",
    "review_encoding = tokenizer.texts_to_sequences([review])\n",
    "review_padded = pad_sequences(review_encoding, maxlen=100, padding='post')\n",
    "\n",
    "value = model.predict(review_padded)\n",
    "\n",
    "\n",
    "if value > 0.5:\n",
    "    print(\"긍정적인 리뷰입니다.\")\n",
    "else:\n",
    "    print(\"부정적인 리뷰입니다.\")\n"
   ]
  },
  {
   "cell_type": "code",
   "execution_count": 9,
   "id": "f150be84",
   "metadata": {},
   "outputs": [
    {
     "name": "stdout",
     "output_type": "stream",
     "text": [
      "긍정 데이터 개수: 2755\n",
      "부정 데이터 개수: 2414\n"
     ]
    }
   ],
   "source": [
    "# 긍정 부정 데이터 개수 확인\n",
    "positive_count = ratings[ratings >= 3].count()\n",
    "negative_count = ratings[ratings < 3].count()\n",
    "\n",
    "print(\"긍정 데이터 개수:\", positive_count)\n",
    "print(\"부정 데이터 개수:\", negative_count)"
   ]
  },
  {
   "cell_type": "code",
   "execution_count": null,
   "id": "11b91f33",
   "metadata": {},
   "outputs": [],
   "source": []
  }
 ],
 "metadata": {
  "kernelspec": {
   "display_name": "Python 3 (ipykernel)",
   "language": "python",
   "name": "python3"
  },
  "language_info": {
   "codemirror_mode": {
    "name": "ipython",
    "version": 3
   },
   "file_extension": ".py",
   "mimetype": "text/x-python",
   "name": "python",
   "nbconvert_exporter": "python",
   "pygments_lexer": "ipython3",
   "version": "3.10.9"
  }
 },
 "nbformat": 4,
 "nbformat_minor": 5
}
